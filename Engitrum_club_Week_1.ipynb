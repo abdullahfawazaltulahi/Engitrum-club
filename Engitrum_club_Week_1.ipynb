{
  "nbformat": 4,
  "nbformat_minor": 0,
  "metadata": {
    "colab": {
      "provenance": [],
      "collapsed_sections": [
        "ZU4N-1R1OG7Z",
        "pbd25yvYT3tC",
        "K1fIb_fyVuHE",
        "E8idPg7qdadF",
        "AOq0_SCegDcC"
      ],
      "mount_file_id": "1sYZ4hUFXWzgf6bBkIVH41207cSCTRbpJ",
      "authorship_tag": "ABX9TyNKoyJpgYe7jj+VPNE5xKTG",
      "include_colab_link": true
    },
    "kernelspec": {
      "name": "python3",
      "display_name": "Python 3"
    },
    "language_info": {
      "name": "python"
    }
  },
  "cells": [
    {
      "cell_type": "markdown",
      "metadata": {
        "id": "view-in-github",
        "colab_type": "text"
      },
      "source": [
        "<a href=\"https://colab.research.google.com/github/abdullahfawazaltulahi/Engitrum-club/blob/main/Engitrum_club_Week_1.ipynb\" target=\"_parent\"><img src=\"https://colab.research.google.com/assets/colab-badge.svg\" alt=\"Open In Colab\"/></a>"
      ]
    },
    {
      "cell_type": "markdown",
      "source": [
        "#in Week 1 we need to understand : \n",
        "\n",
        "Datatype in python \n",
        "\n",
        "Expression and variable in python \n",
        "\n",
        "single operations in python \n",
        "\n",
        "Lists and Tuple in python \n",
        "\n",
        "Dictionaries\n",
        "\n",
        "# Project \n",
        "will be Phone Book that you can Save the number and looking for number "
      ],
      "metadata": {
        "id": "pPqR1L2IN9vn"
      }
    },
    {
      "cell_type": "markdown",
      "source": [
        "#Data type"
      ],
      "metadata": {
        "id": "ZU4N-1R1OG7Z"
      }
    },
    {
      "cell_type": "code",
      "source": [
        "# numbe r\n",
        "x=23 # int \n",
        "y=55.66 # float\n",
        "print(x,\"\\nthe type is\",type(x),'\\n')\n",
        "print(y,\"\\nthe type is\",type(y))"
      ],
      "metadata": {
        "colab": {
          "base_uri": "https://localhost:8080/"
        },
        "id": "VwOC4xwSOKyP",
        "outputId": "a8099ba7-edf1-419f-f992-9f739f7f85b6"
      },
      "execution_count": null,
      "outputs": [
        {
          "output_type": "stream",
          "name": "stdout",
          "text": [
            "23 \n",
            "the type is <class 'int'> \n",
            "\n",
            "55.66 \n",
            "the type is <class 'float'>\n"
          ]
        }
      ]
    },
    {
      "cell_type": "code",
      "source": [
        "a='Abdullah Fawaz'\n",
        "print(a,\"\\nthe type is \",type(a))"
      ],
      "metadata": {
        "colab": {
          "base_uri": "https://localhost:8080/"
        },
        "id": "h-ljmcBgP-Up",
        "outputId": "98ed22d3-23ba-4bad-f067-f3eb33d8bcdf"
      },
      "execution_count": null,
      "outputs": [
        {
          "output_type": "stream",
          "name": "stdout",
          "text": [
            "Abdullah Fawaz \n",
            "the type is  <class 'str'>\n"
          ]
        }
      ]
    },
    {
      "cell_type": "code",
      "source": [
        "b=[1,2,3,4]\n",
        "c=[\"python\",\"C++\",\"java\",\"Ruby\"]\n",
        "print(b,'\\n the type is',type(b),'\\n')\n",
        "print(c,'\\n the type is',type(c))"
      ],
      "metadata": {
        "colab": {
          "base_uri": "https://localhost:8080/"
        },
        "id": "1u98DI7cRXnz",
        "outputId": "d2d75edf-0551-4b41-c0cf-5de23c81f341"
      },
      "execution_count": null,
      "outputs": [
        {
          "output_type": "stream",
          "name": "stdout",
          "text": [
            "[1, 2, 3, 4] \n",
            " the type is <class 'list'> \n",
            "\n",
            "['python', 'C++', 'java', 'Ruby'] \n",
            " the type is <class 'list'>\n"
          ]
        }
      ]
    },
    {
      "cell_type": "code",
      "source": [
        "d=(1,2,3,4)\n",
        "e=('R','PHP','c#','visual basic')\n",
        "print(d,'\\n the type is',type(d),'\\n')\n",
        "print(e,'\\n the type is',type(e))\n"
      ],
      "metadata": {
        "colab": {
          "base_uri": "https://localhost:8080/"
        },
        "id": "jYyytAieSCPr",
        "outputId": "66a5448e-283d-4392-dff1-7a5b84ef30ba"
      },
      "execution_count": null,
      "outputs": [
        {
          "output_type": "stream",
          "name": "stdout",
          "text": [
            "(1, 2, 3, 4) \n",
            " the type is <class 'tuple'> \n",
            "\n",
            "('R', 'PHP', 'c#', 'visual basic') \n",
            " the type is <class 'tuple'>\n"
          ]
        }
      ]
    },
    {
      "cell_type": "code",
      "source": [
        "f={'Name':'Abdullah','Age':'23','City':'Riyadh'}\n",
        "print(f,'\\n the type is',type(f),'\\n')\n"
      ],
      "metadata": {
        "colab": {
          "base_uri": "https://localhost:8080/"
        },
        "id": "RcrItPjzSwxz",
        "outputId": "f6146b65-9bfe-4117-a014-d08417e3601d"
      },
      "execution_count": null,
      "outputs": [
        {
          "output_type": "stream",
          "name": "stdout",
          "text": [
            "{'Name': 'Abdullah', 'Age': '23', 'City': 'Riyadh'} \n",
            " the type is <class 'dict'> \n",
            "\n"
          ]
        }
      ]
    },
    {
      "cell_type": "code",
      "source": [
        "g=2\n",
        "h=1\n",
        "i=4\n",
        "j=4\n",
        "print('is g equal to h: ',g==h)\n",
        "print('is i equal to j: ',i==j)"
      ],
      "metadata": {
        "colab": {
          "base_uri": "https://localhost:8080/"
        },
        "id": "kHhGOqasTLaM",
        "outputId": "96592c8c-ef2a-4670-b548-ec13986bafe0"
      },
      "execution_count": null,
      "outputs": [
        {
          "output_type": "stream",
          "name": "stdout",
          "text": [
            "is g equal to h:  False\n",
            "is i equal to j:  True\n"
          ]
        }
      ]
    },
    {
      "cell_type": "markdown",
      "source": [
        "#Expression and variable in python \n"
      ],
      "metadata": {
        "id": "pbd25yvYT3tC"
      }
    },
    {
      "cell_type": "code",
      "source": [
        "#here the k is the variable that we assign value to the variable \n",
        "k = 3\n",
        "# here the expression is multiplies k with 3 and we add 5 \n",
        "result=k*2+5\n",
        "print('First example : ',result)\n",
        "\n",
        "L=10\n",
        "m=24\n",
        "resu=L+m*2\n",
        "print('Second example : ',resu)\n"
      ],
      "metadata": {
        "colab": {
          "base_uri": "https://localhost:8080/"
        },
        "id": "DQFNCHddT5Db",
        "outputId": "d97215f3-6a02-46e5-b63a-b62f25d1eacf"
      },
      "execution_count": null,
      "outputs": [
        {
          "output_type": "stream",
          "name": "stdout",
          "text": [
            "First example :  11\n",
            "Second example :  58\n"
          ]
        }
      ]
    },
    {
      "cell_type": "markdown",
      "source": [
        "#single operations in python \n",
        "here it's have some of Funtions in single operations\n",
        "\n",
        "\n",
        "*   abs(): function returns the absolute value of a number.\n",
        "*   len(): function returns the length of an object, such as a string or a list.\n",
        "*   Type Conversion: The int(), float(), and str() functions can be used to convert values from one data type to another.\n",
        "*   round(): function can be used to round a float to a specified number of decimal places.\n",
        "*   isinstance(): Type Checking function can be used to check if a value is of a certain data type.\n",
        "\n",
        "\n",
        "\n",
        "\n"
      ],
      "metadata": {
        "id": "K1fIb_fyVuHE"
      }
    },
    {
      "cell_type": "code",
      "source": [
        "x=-9\n",
        "y=abs(x)\n",
        "c=abs(-92)\n",
        "print('here will see the Absolute Value of -9 and -92 : ',y,',',c)"
      ],
      "metadata": {
        "colab": {
          "base_uri": "https://localhost:8080/"
        },
        "id": "-vbK3oY8Yz-y",
        "outputId": "c93e767d-9dc6-456b-a826-0d16cb68ba01"
      },
      "execution_count": null,
      "outputs": [
        {
          "output_type": "stream",
          "name": "stdout",
          "text": [
            "here will see the Absolute Value of -9 and -92 :  9 , 92\n"
          ]
        }
      ]
    },
    {
      "cell_type": "code",
      "source": [
        "#Note: here the Space between the Word and count it \n",
        "r='Engitrum Club'\n",
        "t=len(r)\n",
        "v=len('thanks Engitrun Club')\n",
        "print('here will se the length of r and v : ',t,',',v)"
      ],
      "metadata": {
        "colab": {
          "base_uri": "https://localhost:8080/"
        },
        "id": "vvjC3_IXaoMJ",
        "outputId": "baf0e384-9cef-40e8-a2b0-1bcf94335765"
      },
      "execution_count": null,
      "outputs": [
        {
          "output_type": "stream",
          "name": "stdout",
          "text": [
            "here will se the length of r and v :  13 , 20\n"
          ]
        }
      ]
    },
    {
      "cell_type": "code",
      "source": [
        "x=10.88\n",
        "y=str(x)\n",
        "print(y,'is : ',type(y))"
      ],
      "metadata": {
        "colab": {
          "base_uri": "https://localhost:8080/"
        },
        "id": "ROMK3oZ0cHFu",
        "outputId": "1a65b7ea-f1c7-4453-b6ad-74a6a51b9751"
      },
      "execution_count": null,
      "outputs": [
        {
          "output_type": "stream",
          "name": "stdout",
          "text": [
            "10.88 is :  <class 'str'>\n"
          ]
        }
      ]
    },
    {
      "cell_type": "code",
      "source": [
        "x = 3.14159\n",
        "y = round(x, 3)\n",
        "print('first round :',y) \n",
        "o=84.77229\n",
        "p=round(o,1)\n",
        "print('\\nsecond round :',p)"
      ],
      "metadata": {
        "colab": {
          "base_uri": "https://localhost:8080/"
        },
        "id": "8NCF9AKBVvZ3",
        "outputId": "97db0cb7-96f2-4c38-ab67-c06eaffe82e3"
      },
      "execution_count": null,
      "outputs": [
        {
          "output_type": "stream",
          "name": "stdout",
          "text": [
            "first round : 3.142\n",
            "\n",
            "second round : 84.8\n"
          ]
        }
      ]
    },
    {
      "cell_type": "markdown",
      "source": [
        "#List and Tuple \n",
        "* list you can change some data \n",
        "* Tuple you can't change the data"
      ],
      "metadata": {
        "id": "E8idPg7qdadF"
      }
    },
    {
      "cell_type": "code",
      "source": [
        "# list \n",
        "g=[1,2,3,'Abdullah','Saad',88]\n",
        "g[2]='norah'\n",
        "print('this is the list after change : ',g,'\\t',type(g))"
      ],
      "metadata": {
        "colab": {
          "base_uri": "https://localhost:8080/"
        },
        "id": "1YaEkY_8dc2D",
        "outputId": "608ddf50-2a21-4e49-b0f0-afb595c17c0e"
      },
      "execution_count": null,
      "outputs": [
        {
          "output_type": "stream",
          "name": "stdout",
          "text": [
            "this is the list after change :  [1, 2, 'norah', 'Abdullah', 'Saad', 88] \t <class 'list'>\n"
          ]
        }
      ]
    },
    {
      "cell_type": "code",
      "source": [
        "# Tuple\n",
        "n=(1,2,3,'abdullah','Saad',88)\n",
        "print('this is the Tuple:',n,'\\t',type(n))"
      ],
      "metadata": {
        "colab": {
          "base_uri": "https://localhost:8080/"
        },
        "id": "RXa-T5Xte465",
        "outputId": "229c977d-21c3-45fb-911c-2d5ec1f72a2d"
      },
      "execution_count": null,
      "outputs": [
        {
          "output_type": "stream",
          "name": "stdout",
          "text": [
            "this is the Tuple: (1, 2, 3, 'abdullah', 'Saad', 88) \t <class 'tuple'>\n"
          ]
        }
      ]
    },
    {
      "cell_type": "markdown",
      "source": [
        "#Dictionaries \n",
        "* in the dictionaries you can change the data by using k-based index to access the value inside your dictionaries "
      ],
      "metadata": {
        "id": "AOq0_SCegDcC"
      }
    },
    {
      "cell_type": "code",
      "source": [
        "dic_ex={\n",
        "    'Abdullah':\n",
        "    {'age':23,\n",
        "    'job':'computer science specializing',\n",
        "    'city':'riyadh'},\n",
        "\n",
        "    'Ahad':\n",
        "     {'age':23,\n",
        "     'job':'AI specializing',\n",
        "     'city':'Majmaah'},\n",
        "\n",
        "    'Salem':\n",
        "     {'age':30,\n",
        "     'job':'math teacher ',\n",
        "     'city':'riyadh'}    \n",
        "    }\n",
        "\n",
        "print('First example',dic_ex['Abdullah'])\n",
        "\n",
        "# if you want to change in any data in the dictionaries \n",
        "dic_ex['Salem']['age']=31\n",
        "\n",
        "print('second example',dic_ex['Salem'])"
      ],
      "metadata": {
        "colab": {
          "base_uri": "https://localhost:8080/"
        },
        "id": "g0Kr_KI7geKb",
        "outputId": "627e5ae7-961f-4247-a67f-a121f77d69ca"
      },
      "execution_count": null,
      "outputs": [
        {
          "output_type": "stream",
          "name": "stdout",
          "text": [
            "First example {'age': 23, 'job': 'computer science specializing', 'city': 'riyadh'}\n",
            "second example {'age': 31, 'job': 'math teacher ', 'city': 'riyadh'}\n"
          ]
        }
      ]
    },
    {
      "cell_type": "markdown",
      "source": [
        "#Project\n",
        "* The project will be Phone Book"
      ],
      "metadata": {
        "id": "god3ukJkjiS5"
      }
    },
    {
      "cell_type": "code",
      "source": [
        "from IPython.lib.display import exists\n",
        "Phone_Book={}\n",
        "\n",
        "while True:\n",
        "  print(\"1. Add Phone number\")\n",
        "  print(\"2. look up phone number\")\n",
        "  print(\"3. exist\")\n",
        "\n",
        "  chose=input(\"\\nplease Enter your choice (1-3): \")\n",
        "\n",
        "  if chose==\"1\":\n",
        "    name=input(\"\\nplease Enter your name: \")\n",
        "    number=input(\"\\nplease Enetr your Phone: \")\n",
        "    Phone_Book[name]=number\n",
        "    print(f\"\\nThe information of ({name}) and his phone ({number}) is add\\n\")\n",
        "\n",
        "  elif chose==\"2\":\n",
        "    name=input(\"\\nplease Enter the name: \")\n",
        "    if name in Phone_Book:\n",
        "      number=Phone_Book[name]\n",
        "      print(f\"\\nthe information is\\n ({name}) \\n ({number}) \\n\")\n",
        "    else:\n",
        "        print(f\"\\nthe ({name}) is not in Phone Book\\n \")\n",
        "\n",
        "  elif chose == \"3\":\n",
        "    break\n",
        "  else:\n",
        "    print(\"\\n your choice is not in the Menu please Enter again\\n \")\n"
      ],
      "metadata": {
        "colab": {
          "base_uri": "https://localhost:8080/"
        },
        "id": "dAQNmuX0j7hR",
        "outputId": "69993d60-6b4b-487c-c908-ff1273287ca2"
      },
      "execution_count": null,
      "outputs": [
        {
          "name": "stdout",
          "output_type": "stream",
          "text": [
            "1. Add Phone number\n",
            "2. look up phone number\n",
            "3. exist\n",
            "\n",
            "please Enter your choice (1-3): 1\n",
            "\n",
            "please Enter your name: abdullah\n",
            "\n",
            "please Enetr your Phone: 0501068872\n",
            "\n",
            "The information of abdullah and his phone 0501068872 is add\n",
            "1. Add Phone number\n",
            "2. look up phone number\n",
            "3. exist\n",
            "\n",
            "please Enter your choice (1-3): 2\n",
            "\n",
            "please Enter the name: abdullah\n",
            "\n",
            "the information is\n",
            " abdullah and\n",
            " 0501068872 \n",
            "\n",
            "1. Add Phone number\n",
            "2. look up phone number\n",
            "3. exist\n",
            "\n",
            "please Enter your choice (1-3): 3\n"
          ]
        }
      ]
    }
  ]
}