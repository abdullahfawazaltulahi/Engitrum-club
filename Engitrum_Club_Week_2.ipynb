{
  "nbformat": 4,
  "nbformat_minor": 0,
  "metadata": {
    "colab": {
      "provenance": [],
      "mount_file_id": "1E_WzNzg_VR1dOo88V3yoVzFM2oj-nsj1",
      "authorship_tag": "ABX9TyM6l36zneI7u1RNXwC2zqC+",
      "include_colab_link": true
    },
    "kernelspec": {
      "name": "python3",
      "display_name": "Python 3"
    },
    "language_info": {
      "name": "python"
    }
  },
  "cells": [
    {
      "cell_type": "markdown",
      "metadata": {
        "id": "view-in-github",
        "colab_type": "text"
      },
      "source": [
        "<a href=\"https://colab.research.google.com/github/abdullahfawazaltulahi/Engitrum-club/blob/main/Engitrum_Club_Week_2.ipynb\" target=\"_parent\"><img src=\"https://colab.research.google.com/assets/colab-badge.svg\" alt=\"Open In Colab\"/></a>"
      ]
    },
    {
      "cell_type": "markdown",
      "source": [
        "# week 2 \n",
        "\n",
        " welcome into the second week of Engitrum Club. in this week we will fouce on : \n",
        "\n",
        "1- sets \\\n",
        "2- condition and branching \\\n",
        "3- loops \\\n",
        "4- functions \\\n",
        "5- Exceptions Handling \\\n",
        "6- Objects and classes \\"
      ],
      "metadata": {
        "id": "vtOo4vuqNkI2"
      }
    },
    {
      "cell_type": "markdown",
      "source": [
        "# Sets\n",
        "is an unordered collection of unique elements. You can use sets to perform mathematical set operations such as union, intersection, and difference.used to store multiple items in a single variable. is a collection which is unordered, unchangeable, and unindexed, and don't allow duplicate values.\n",
        "\n",
        "union: Combine two sets into new set that contains all elements from both sets /\n",
        "intersection: operation that return a new set containing only elements that common both input sets.\n",
        "\n",
        "difference: operation that returnn new set containing the element are in first set but not in the second set "
      ],
      "metadata": {
        "id": "-KwZUbafOTcU"
      }
    },
    {
      "cell_type": "code",
      "source": [
        "myset1={1,2,3,4,5}\n",
        "myset2={5,4,1,7,8,9}\n",
        "\n",
        "# union of myset1 and myset2\n",
        "union_sets=myset1.union(myset2)\n",
        "\n",
        "# intersection of myset1 and myset2\n",
        "intersection_sets=myset1.intersection(myset2)\n",
        "\n",
        "#differences of myset1 and myset2\n",
        "differences_set=myset1.difference(myset2)\n",
        "\n",
        "print(' union : ',union_sets)\n",
        "print('\\n intersection : ', intersection_sets)\n",
        "print('\\n difference ', differences_set)"
      ],
      "metadata": {
        "colab": {
          "base_uri": "https://localhost:8080/"
        },
        "id": "uJeulZcsTVei",
        "outputId": "6accffd0-4c73-4b29-ba25-fb018fbbc668"
      },
      "execution_count": 9,
      "outputs": [
        {
          "output_type": "stream",
          "name": "stdout",
          "text": [
            " union :  {1, 2, 3, 4, 5, 7, 8, 9}\n",
            "\n",
            " intersection :  {1, 4, 5}\n",
            "\n",
            " difference  {2, 3}\n"
          ]
        }
      ]
    },
    {
      "cell_type": "markdown",
      "source": [
        "# Conditions \n",
        "used in programming to make descisions based on certain condition. most condition is IF statement that allows you to excute a block of code if a certain condition is True. "
      ],
      "metadata": {
        "id": "AisiZ_gipy-3"
      }
    },
    {
      "cell_type": "code",
      "source": [
        "num=int(input('please enter num : '))\n",
        "\n",
        "if num  %2 == 0: \n",
        "  print('Even')\n",
        "else: \n",
        "  print('Odd')"
      ],
      "metadata": {
        "colab": {
          "base_uri": "https://localhost:8080/"
        },
        "id": "h_DmeykeqWEK",
        "outputId": "b2beabc3-0cdc-4b54-e625-8c8f42e25c77"
      },
      "execution_count": 20,
      "outputs": [
        {
          "output_type": "stream",
          "name": "stdout",
          "text": [
            "please enter num : 10\n",
            "Even\n"
          ]
        }
      ]
    },
    {
      "cell_type": "code",
      "source": [
        "\n",
        "num1=int(input('enter number : '))\n",
        "\n",
        "if num1 >0 : \n",
        "  print('Positive number ')\n",
        "elif num1 == 0: \n",
        "  print('Zero')\n",
        "else :\n",
        "  print('Negative number ')"
      ],
      "metadata": {
        "colab": {
          "base_uri": "https://localhost:8080/"
        },
        "id": "QU8usBTdqorG",
        "outputId": "bbed5ac6-0ab3-47ac-fc57-3a548555ef7e"
      },
      "execution_count": 29,
      "outputs": [
        {
          "output_type": "stream",
          "name": "stdout",
          "text": [
            "enter number : 9\n",
            "Positive number \n"
          ]
        }
      ]
    },
    {
      "cell_type": "markdown",
      "source": [
        "# Loops\n",
        "used in programming to excute a block of Code repeatedly until a certain condition is met. "
      ],
      "metadata": {
        "id": "-yVZ6zlNtWMW"
      }
    },
    {
      "cell_type": "code",
      "source": [
        "# counting number of word, it's will count the space \n",
        "\n",
        "a=str(input('enter name : '))\n",
        "i = 0 \n",
        "while i <len(a): \n",
        "  i+=1\n",
        "  pass \n",
        "print('number of word is : ', i)"
      ],
      "metadata": {
        "colab": {
          "base_uri": "https://localhost:8080/"
        },
        "id": "Nra_3U8QskUP",
        "outputId": "67470526-a15c-4464-97de-6825186d60ca"
      },
      "execution_count": 31,
      "outputs": [
        {
          "output_type": "stream",
          "name": "stdout",
          "text": [
            "enter name : abdullah fawaz altulahi\n",
            "number of word is :  23\n"
          ]
        }
      ]
    },
    {
      "cell_type": "code",
      "source": [
        "# for loop Squares number \n",
        "\n",
        "myloop=[]\n",
        "\n",
        "for i in range(4):\n",
        "  number=int(input('Enter the 4 number : '))\n",
        "  myloop.append(number)\n",
        "\n",
        "for number in myloop : \n",
        "  squares=number ** 2\n",
        "  print(f'the Squares of {number} is {squares}')"
      ],
      "metadata": {
        "colab": {
          "base_uri": "https://localhost:8080/"
        },
        "id": "7DpVbbWbu_d7",
        "outputId": "4acc44a1-831f-4916-a720-87d26909804b"
      },
      "execution_count": 32,
      "outputs": [
        {
          "output_type": "stream",
          "name": "stdout",
          "text": [
            "Enter the 4 number : 3\n",
            "Enter the 4 number : 5\n",
            "Enter the 4 number : 6\n",
            "Enter the 4 number : 2\n",
            "the Squares of 3 is 9\n",
            "the Squares of 5 is 25\n",
            "the Squares of 6 is 36\n",
            "the Squares of 2 is 4\n"
          ]
        }
      ]
    },
    {
      "cell_type": "markdown",
      "source": [
        "# Functions \n",
        "blocks of code that can be called and excuted whenever needed, it's take input and preform certain operation and return the output "
      ],
      "metadata": {
        "id": "joRpT-39w9Q9"
      }
    },
    {
      "cell_type": "code",
      "source": [
        "# function that returns the average grades of students \n",
        "def ave_student(grades): \n",
        "  averages_dict = {}\n",
        "  for student , grade_list in grades.items():\n",
        "    average=sum(grade_list)/ len(grade_list)\n",
        "    averages_dict[student]=average\n",
        "  return averages_dict\n",
        "\n",
        "grade={\n",
        "    'ali':[80,90,77],\n",
        "    'abdullah':[99,88,80],\n",
        "    'bushra':[80,90,86]}\n",
        "results=ave_student(grade)\n",
        "print('this is the average grades of students : \\n',results)"
      ],
      "metadata": {
        "colab": {
          "base_uri": "https://localhost:8080/"
        },
        "id": "xlA0kxPG1bP7",
        "outputId": "1e4035dd-d7f0-434d-a4a7-96f09ad1103d"
      },
      "execution_count": 8,
      "outputs": [
        {
          "output_type": "stream",
          "name": "stdout",
          "text": [
            "this is the average grades of students : \n",
            " {'ali': 82.33333333333333, 'abdullah': 89.0, 'bushra': 85.33333333333333}\n"
          ]
        }
      ]
    },
    {
      "cell_type": "code",
      "source": [
        "# in the second example it's function that returns the max and min values \n",
        "\n",
        "def min_max(numbers):\n",
        "  min_num=min(numbers)\n",
        "  max_num=max(numbers)\n",
        "  return min_num,max_num\n",
        "\n",
        "n=[24,22,64,57,77,85,12,34]\n",
        "min_val,max_val=min_max(n)\n",
        "print(f'the minmum value in the list is : {min_val}\\n the maxmum values in the list is : {max_val}')"
      ],
      "metadata": {
        "colab": {
          "base_uri": "https://localhost:8080/"
        },
        "id": "mA56mr5f1yzr",
        "outputId": "cdab17fa-a35a-4cf3-b1d6-fabc66db34c3"
      },
      "execution_count": 12,
      "outputs": [
        {
          "output_type": "stream",
          "name": "stdout",
          "text": [
            "the minmum value in the list is : 12\n",
            " the maxmum values in the list is : 85\n"
          ]
        }
      ]
    },
    {
      "cell_type": "markdown",
      "source": [
        "# EXception Handling \n",
        "\n",
        "is used in programming to handel the error and exception that my occur during the excution of program. it's allows the program to gracefully handle the error and continue running without crashing ."
      ],
      "metadata": {
        "id": "Cpd98RZhadg2"
      }
    },
    {
      "cell_type": "code",
      "source": [
        "# here we want to open a text file and print what inside this file, \n",
        "#but the benefit of using exception handle here to avoid geting error\n",
        "# if file found then will print what inside this file\n",
        "# if the file not found it so we will get the message that say \"error: file not found\"\n",
        "\n",
        "try: \n",
        "  file=open(\"/content/drive/MyDrive/DATA/engitrumclub.txt\",\"r\")\n",
        "except: \n",
        "  print('error: file not found')\n",
        "else: \n",
        "  content=file.read()\n",
        "  print(content)\n",
        "  file.close()"
      ],
      "metadata": {
        "colab": {
          "base_uri": "https://localhost:8080/"
        },
        "id": "gVzK_fj5a9gd",
        "outputId": "c2b53984-5227-41b6-9f11-8bf5599076f7"
      },
      "execution_count": 14,
      "outputs": [
        {
          "output_type": "stream",
          "name": "stdout",
          "text": [
            "in this club we trying to obtain the \n",
            "certification of IBM for data science.\n",
            "and I would thank the admins of this group \n"
          ]
        }
      ]
    },
    {
      "cell_type": "code",
      "source": [
        "# here i change the name to engitrumclubbb.txt and there no file like this name \n",
        "\n",
        "try: \n",
        "  file=open(\"/content/drive/MyDrive/DATA/engitrumclubbb.txt\",\"r\")\n",
        "except: \n",
        "  print('error: file not found')\n",
        "else: \n",
        "  content=file.read()\n",
        "  print(content)\n",
        "  file.close()"
      ],
      "metadata": {
        "colab": {
          "base_uri": "https://localhost:8080/"
        },
        "id": "nL8M89Wwhr1y",
        "outputId": "c05cc5c0-cf48-4467-ca76-d0ea31e22d4d"
      },
      "execution_count": 15,
      "outputs": [
        {
          "output_type": "stream",
          "name": "stdout",
          "text": [
            "error: file not found\n"
          ]
        }
      ]
    },
    {
      "cell_type": "code",
      "source": [],
      "metadata": {
        "id": "YYLzKC88hyG4"
      },
      "execution_count": null,
      "outputs": []
    },
    {
      "cell_type": "markdown",
      "source": [
        "# object and classes \n",
        "we use it in object-oriented programming to represnt real-world entities as object and define their properties and methods "
      ],
      "metadata": {
        "id": "P6Ai6X83jMo7"
      }
    },
    {
      "cell_type": "code",
      "source": [
        "# this class name is car \n",
        "class car: \n",
        "# this is the construction method for car class. it's take in theree \n",
        "#arguments (make, model, year).(self) it's argument refers to the instance \n",
        "#of class that being created. inside the constructor method the three\n",
        "#arguments assigned to instance variable of same name using self keyword. \n",
        "\n",
        "  def __init__(self,make,model,year):\n",
        "    self.make=make\n",
        "    self.model=model\n",
        "    self.year=year\n",
        "\n",
        "# here three functions of car class, each of which reutrns one of the instance variable\n",
        "# they use retrive values of instance variable from outside the class \n",
        "  def get_make(self):\n",
        "    return self.make\n",
        "\n",
        "  def get_model(self):\n",
        "    return self.model\n",
        "\n",
        "  def get_year(self):\n",
        "    return self.year\n",
        "\n",
        "# now we create a object that have the car properties \n",
        "properties_car=car(\"honda\",\"accourd \",2012)\n",
        "\n",
        "print('Company :',properties_car.get_make())\n",
        "print('Car Name :',properties_car.get_model())\n",
        "print('Years of make :',properties_car.get_year())\n"
      ],
      "metadata": {
        "colab": {
          "base_uri": "https://localhost:8080/"
        },
        "id": "MxXSq8agjlg6",
        "outputId": "d4d238b4-3018-410d-d44e-2e6e24fbf67d"
      },
      "execution_count": 22,
      "outputs": [
        {
          "output_type": "stream",
          "name": "stdout",
          "text": [
            "Company : honda\n",
            "Car Name : accourd \n",
            "Years of make : 2012\n"
          ]
        }
      ]
    },
    {
      "cell_type": "code",
      "source": [
        "# now we use the Subclass \n",
        "class vehicsle:\n",
        "  def __init__(self,make,model,year):\n",
        "    self.make=make\n",
        "    self.model=model\n",
        "    self.year=year\n",
        "\n",
        "  def get_make(self):\n",
        "    return self.make\n",
        "  def get_model(self):\n",
        "    return self.model\n",
        "  def get_year(self):\n",
        "    return self.year\n",
        "\n",
        "  # now we want to create subclass that the chaild class inherits from father class\n",
        "\n",
        "class car(vehicsle):\n",
        "    def __init__(self,make,model,year,color):\n",
        "  # here we want thtree properties that is ( make, model, year ) using super()\n",
        "\n",
        "      super().__init__(make, model, year)\n",
        "      self.color=color\n",
        "      \n",
        "    def get_color(self):\n",
        "      return self.color\n",
        "\n",
        "\n",
        "car_properties =car(\"ford\",\"Mustang\",2023,\"black\")\n",
        "\n",
        "print(\"Company :\",car_properties.get_make())\n",
        "print(\"Model :\",car_properties.get_model())\n",
        "print(\"Year of make :\",car_properties.get_year())\n",
        "print(\"Car Color :\",car_properties.get_color())\n",
        "\n",
        "\n"
      ],
      "metadata": {
        "colab": {
          "base_uri": "https://localhost:8080/"
        },
        "id": "Lc0GQ0VllY6Y",
        "outputId": "38028046-ff36-4b5a-907a-7c13dc21852e"
      },
      "execution_count": 33,
      "outputs": [
        {
          "output_type": "stream",
          "name": "stdout",
          "text": [
            "Company : ford\n",
            "Model : Mustang\n",
            "Year of make : 2023\n",
            "Car Color : black\n"
          ]
        }
      ]
    },
    {
      "cell_type": "code",
      "source": [
        "# un this code I let the user enter the properties \n",
        "\n",
        "# now we use the Subclass \n",
        "class vehicsle:\n",
        "  def __init__(self,make,model,year):\n",
        "    self.make=make\n",
        "    self.model=model\n",
        "    self.year=year\n",
        "\n",
        "  def get_make(self):\n",
        "    return self.make\n",
        "  def get_model(self):\n",
        "    return self.model\n",
        "  def get_year(self):\n",
        "    return self.year\n",
        "\n",
        "  # now we want to create subclass that the chaild class inherits from father class\n",
        "\n",
        "class car(vehicsle):\n",
        "    def __init__(self,make,model,year,color):\n",
        "  # here we want thtree properties that is ( make, model, year ) using super()\n",
        "\n",
        "      super().__init__(make, model, year)\n",
        "      self.color=color\n",
        "      \n",
        "    def get_color(self):\n",
        "      return self.color\n",
        "\n",
        "make=input(\"please Enter the Company name: \")\n",
        "model=input(\"Please Enter The Name of Car: \")\n",
        "year=input(\"Please Enter The Year of Car: \")\n",
        "color=input(\"Pleas  Enter The Color of Car\")\n",
        "\n",
        "\n",
        "car_properties =car(make,model,year,color)\n",
        "\n",
        "print(\"\\n Company :\",car_properties.get_make())\n",
        "print(\"Model :\",car_properties.get_model())\n",
        "print(\"Year of make :\",car_properties.get_year())\n",
        "print(\"Car Color :\",car_properties.get_color())\n",
        "\n",
        "\n"
      ],
      "metadata": {
        "colab": {
          "base_uri": "https://localhost:8080/"
        },
        "id": "-VTamJKdrj0O",
        "outputId": "28109c18-557c-4d75-edba-b1657ce9a1d5"
      },
      "execution_count": 36,
      "outputs": [
        {
          "output_type": "stream",
          "name": "stdout",
          "text": [
            "please Enter the Company name: Nissan\n",
            "Please Enter The Name of Car: Patrol\n",
            "Please Enter The Year of Car: 2010\n",
            "Pleas  Enter The Color of CarSilver\n",
            "\n",
            " Company : Nissan\n",
            "Model : Patrol\n",
            "Year of make : 2010\n",
            "Car Color : Silver\n"
          ]
        }
      ]
    }
  ]
}